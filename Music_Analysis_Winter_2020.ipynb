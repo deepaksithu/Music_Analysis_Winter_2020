{
 "cells": [
  {
   "cell_type": "markdown",
   "metadata": {},
   "source": [
    "# Music Analysis Winter 2020"
   ]
  },
  {
   "cell_type": "markdown",
   "metadata": {},
   "source": [
    "## Deepak Sithu"
   ]
  },
  {
   "cell_type": "markdown",
   "metadata": {},
   "source": [
    "## Table of Contents\n",
    "- [Overview](#overview)\n",
    "- [Initial Exploration](#exploration)\n",
    "- [Data Wrangling](#wrangling)\n",
    "- [Data Cleaning](#cleaning)\n",
    "- [Analysis](#analysis)\n",
    "- [Conclusion](#conclusion)"
   ]
  },
  {
   "cell_type": "markdown",
   "metadata": {},
   "source": [
    "## Overview <a class=\"anchor\" id=\"overview\"></a>"
   ]
  },
  {
   "cell_type": "code",
   "execution_count": 2,
   "metadata": {},
   "outputs": [],
   "source": [
    "# import libraries\n",
    "import numpy as np\n",
    "import pandas as pd\n",
    "import matplotlib.pyplot as plt\n",
    "import seaborn as sns\n",
    "\n",
    "%matplotlib inline"
   ]
  },
  {
   "cell_type": "code",
   "execution_count": 3,
   "metadata": {},
   "outputs": [],
   "source": [
    "# import dataset\n",
    "df1 = pd.read_csv('music_winter_2020.csv')"
   ]
  },
  {
   "cell_type": "markdown",
   "metadata": {},
   "source": [
    "## Initial Exploration <a class=\"anchor\" id=\"exploration\"></a>"
   ]
  },
  {
   "cell_type": "code",
   "execution_count": 12,
   "metadata": {},
   "outputs": [
    {
     "data": {
      "text/html": [
       "<div>\n",
       "<style scoped>\n",
       "    .dataframe tbody tr th:only-of-type {\n",
       "        vertical-align: middle;\n",
       "    }\n",
       "\n",
       "    .dataframe tbody tr th {\n",
       "        vertical-align: top;\n",
       "    }\n",
       "\n",
       "    .dataframe thead th {\n",
       "        text-align: right;\n",
       "    }\n",
       "</style>\n",
       "<table border=\"1\" class=\"dataframe\">\n",
       "  <thead>\n",
       "    <tr style=\"text-align: right;\">\n",
       "      <th></th>\n",
       "      <th>Date</th>\n",
       "      <th>Artist</th>\n",
       "      <th>Album</th>\n",
       "      <th>Rating</th>\n",
       "      <th>Notes</th>\n",
       "    </tr>\n",
       "  </thead>\n",
       "  <tbody>\n",
       "    <tr>\n",
       "      <th>0</th>\n",
       "      <td>12/30/2019</td>\n",
       "      <td>Self Esteem</td>\n",
       "      <td>Compliments Please (DLX)</td>\n",
       "      <td>9-10</td>\n",
       "      <td>repeat!!!</td>\n",
       "    </tr>\n",
       "    <tr>\n",
       "      <th>1</th>\n",
       "      <td>12/30/2019</td>\n",
       "      <td>Self Esteem</td>\n",
       "      <td>Compliments Please (DLX)</td>\n",
       "      <td>9-10</td>\n",
       "      <td>repeat!!!</td>\n",
       "    </tr>\n",
       "    <tr>\n",
       "      <th>6</th>\n",
       "      <td>1/1/2020</td>\n",
       "      <td>Self Esteem</td>\n",
       "      <td>Compliments Please (DLX)</td>\n",
       "      <td>9-10</td>\n",
       "      <td>repeat!!!</td>\n",
       "    </tr>\n",
       "    <tr>\n",
       "      <th>36</th>\n",
       "      <td>1/7/2020</td>\n",
       "      <td>Purple Mountains</td>\n",
       "      <td>Purple Mountains</td>\n",
       "      <td>9-10</td>\n",
       "      <td>&lt;3 &lt;3 &lt;3 &lt;3 &lt;3</td>\n",
       "    </tr>\n",
       "    <tr>\n",
       "      <th>71</th>\n",
       "      <td>1/16/2020</td>\n",
       "      <td>Self Esteem</td>\n",
       "      <td>Compliments Please (DLX)</td>\n",
       "      <td>9-10</td>\n",
       "      <td>&lt;3 &lt;3 &lt;3</td>\n",
       "    </tr>\n",
       "    <tr>\n",
       "      <th>74</th>\n",
       "      <td>1/19/2020</td>\n",
       "      <td>Desert Sessions</td>\n",
       "      <td>Vols. 11 &amp; 12</td>\n",
       "      <td>9-10</td>\n",
       "      <td>repeat!!!</td>\n",
       "    </tr>\n",
       "    <tr>\n",
       "      <th>94</th>\n",
       "      <td>1/23/2020</td>\n",
       "      <td>Self Esteem</td>\n",
       "      <td>Compliments Please (DLX)</td>\n",
       "      <td>9-10</td>\n",
       "      <td>BUY!!!</td>\n",
       "    </tr>\n",
       "    <tr>\n",
       "      <th>95</th>\n",
       "      <td>1/23/2020</td>\n",
       "      <td>Desert Sessions</td>\n",
       "      <td>Vols. 11 &amp; 12</td>\n",
       "      <td>9-10</td>\n",
       "      <td>NaN</td>\n",
       "    </tr>\n",
       "    <tr>\n",
       "      <th>96</th>\n",
       "      <td>1/23/2020</td>\n",
       "      <td>Desert Sessions</td>\n",
       "      <td>Vols. 11 &amp; 12</td>\n",
       "      <td>9-10</td>\n",
       "      <td>repeat!!!</td>\n",
       "    </tr>\n",
       "    <tr>\n",
       "      <th>121</th>\n",
       "      <td>1/30/2020</td>\n",
       "      <td>TTNG</td>\n",
       "      <td>Animals</td>\n",
       "      <td>9-10</td>\n",
       "      <td>&lt;3 &lt;3 &lt;3</td>\n",
       "    </tr>\n",
       "    <tr>\n",
       "      <th>148</th>\n",
       "      <td>2/12/2020</td>\n",
       "      <td>Purple Mountains</td>\n",
       "      <td>Purple Mountains</td>\n",
       "      <td>9-10</td>\n",
       "      <td>BUY</td>\n",
       "    </tr>\n",
       "    <tr>\n",
       "      <th>149</th>\n",
       "      <td>2/13/2020</td>\n",
       "      <td>Richard Dawson</td>\n",
       "      <td>2020</td>\n",
       "      <td>9-10</td>\n",
       "      <td>repeat!!! and get into!!!</td>\n",
       "    </tr>\n",
       "    <tr>\n",
       "      <th>158</th>\n",
       "      <td>2/16/2020</td>\n",
       "      <td>JPEGMAFIA</td>\n",
       "      <td>All My Heroes Are Cornballs</td>\n",
       "      <td>9-10</td>\n",
       "      <td>repeat!!!</td>\n",
       "    </tr>\n",
       "    <tr>\n",
       "      <th>212</th>\n",
       "      <td>2/29/2020</td>\n",
       "      <td>Self Esteem</td>\n",
       "      <td>Compliments Please (DLX)</td>\n",
       "      <td>9-10</td>\n",
       "      <td>BUY &lt;3 &lt;3 &lt;3</td>\n",
       "    </tr>\n",
       "    <tr>\n",
       "      <th>272</th>\n",
       "      <td>3/17/2020</td>\n",
       "      <td>Weyes Blood</td>\n",
       "      <td>Titanic Rising</td>\n",
       "      <td>9-10</td>\n",
       "      <td>repeat!!!</td>\n",
       "    </tr>\n",
       "    <tr>\n",
       "      <th>287</th>\n",
       "      <td>3/20/2020</td>\n",
       "      <td>Purple Mountains</td>\n",
       "      <td>Purple Mountains</td>\n",
       "      <td>9-10</td>\n",
       "      <td>BUY!!!</td>\n",
       "    </tr>\n",
       "  </tbody>\n",
       "</table>\n",
       "</div>"
      ],
      "text/plain": [
       "           Date            Artist                        Album Rating  \\\n",
       "0    12/30/2019       Self Esteem     Compliments Please (DLX)   9-10   \n",
       "1    12/30/2019       Self Esteem     Compliments Please (DLX)   9-10   \n",
       "6      1/1/2020       Self Esteem     Compliments Please (DLX)   9-10   \n",
       "36     1/7/2020  Purple Mountains             Purple Mountains   9-10   \n",
       "71    1/16/2020       Self Esteem     Compliments Please (DLX)   9-10   \n",
       "74    1/19/2020   Desert Sessions                Vols. 11 & 12   9-10   \n",
       "94    1/23/2020       Self Esteem     Compliments Please (DLX)   9-10   \n",
       "95    1/23/2020   Desert Sessions                Vols. 11 & 12   9-10   \n",
       "96    1/23/2020   Desert Sessions                Vols. 11 & 12   9-10   \n",
       "121   1/30/2020              TTNG                      Animals   9-10   \n",
       "148   2/12/2020  Purple Mountains             Purple Mountains   9-10   \n",
       "149   2/13/2020    Richard Dawson                         2020   9-10   \n",
       "158   2/16/2020         JPEGMAFIA  All My Heroes Are Cornballs   9-10   \n",
       "212   2/29/2020       Self Esteem     Compliments Please (DLX)   9-10   \n",
       "272   3/17/2020       Weyes Blood               Titanic Rising   9-10   \n",
       "287   3/20/2020  Purple Mountains             Purple Mountains   9-10   \n",
       "\n",
       "                         Notes  \n",
       "0                    repeat!!!  \n",
       "1                    repeat!!!  \n",
       "6                    repeat!!!  \n",
       "36              <3 <3 <3 <3 <3  \n",
       "71                    <3 <3 <3  \n",
       "74                   repeat!!!  \n",
       "94                      BUY!!!  \n",
       "95                         NaN  \n",
       "96                   repeat!!!  \n",
       "121                   <3 <3 <3  \n",
       "148                        BUY  \n",
       "149  repeat!!! and get into!!!  \n",
       "158                  repeat!!!  \n",
       "212               BUY <3 <3 <3  \n",
       "272                  repeat!!!  \n",
       "287                     BUY!!!  "
      ]
     },
     "execution_count": 12,
     "metadata": {},
     "output_type": "execute_result"
    }
   ],
   "source": [
    "df1[df1['Rating'] == '9-10']"
   ]
  },
  {
   "cell_type": "markdown",
   "metadata": {},
   "source": [
    "## Data Wrangling <a class=\"anchor\" id=\"wrangling\"></a>"
   ]
  },
  {
   "cell_type": "code",
   "execution_count": null,
   "metadata": {},
   "outputs": [],
   "source": [
    "# Quality\n",
    "# - completeness\n",
    "# - validity\n",
    "# - accurary\n",
    "# - consistency"
   ]
  },
  {
   "cell_type": "code",
   "execution_count": null,
   "metadata": {},
   "outputs": [],
   "source": [
    "# Tidiness\n",
    "# - column headers are variable names, not values\n",
    "# - only one variable is stored in each column\n",
    "# - variables stored only in columns or rows, not both\n",
    "# - only one type of observational unit stored in the table\n",
    "# - don't put one observational unit in multiple tables"
   ]
  },
  {
   "cell_type": "markdown",
   "metadata": {},
   "source": [
    "## Data Cleaning <a class=\"anchor\" id=\"cleaning\"></a>"
   ]
  },
  {
   "cell_type": "code",
   "execution_count": null,
   "metadata": {},
   "outputs": [],
   "source": [
    "# list issues\n",
    "# copy dataframes\n",
    "# address completeness issues\n",
    "# address tidiness issues\n",
    "# address remaining quality issues\n",
    "# store dataframes\n",
    "# finalize dataframes"
   ]
  },
  {
   "cell_type": "markdown",
   "metadata": {},
   "source": [
    "- convert Date to datetime format\n",
    "- convert Rating to float\n",
    "- adjust half numbers\n",
    "- convert repeats in Notes"
   ]
  },
  {
   "cell_type": "raw",
   "metadata": {},
   "source": []
  },
  {
   "cell_type": "markdown",
   "metadata": {},
   "source": [
    "### Issue"
   ]
  },
  {
   "cell_type": "markdown",
   "metadata": {},
   "source": [
    "### Define"
   ]
  },
  {
   "cell_type": "markdown",
   "metadata": {},
   "source": [
    "### Code"
   ]
  },
  {
   "cell_type": "markdown",
   "metadata": {},
   "source": [
    "### Test"
   ]
  },
  {
   "cell_type": "markdown",
   "metadata": {},
   "source": [
    "## Analysis <a class=\"anchor\" id=\"analysis\"></a>"
   ]
  },
  {
   "cell_type": "code",
   "execution_count": null,
   "metadata": {},
   "outputs": [],
   "source": [
    "# initial exploration\n",
    "# univariate analysis and visualizations\n",
    "# bivariate analysis and visualizations\n",
    "# multivariate analysis and visualizations\n",
    "# statistical analysis"
   ]
  },
  {
   "cell_type": "markdown",
   "metadata": {},
   "source": [
    "## Conclusion <a class=\"anchor\" id=\"conclusion\"></a>"
   ]
  },
  {
   "cell_type": "code",
   "execution_count": null,
   "metadata": {},
   "outputs": [],
   "source": [
    "# explanatory visualizations\n",
    "# conclusions\n",
    "# limitations"
   ]
  }
 ],
 "metadata": {
  "kernelspec": {
   "display_name": "Python 3",
   "language": "python",
   "name": "python3"
  },
  "language_info": {
   "codemirror_mode": {
    "name": "ipython",
    "version": 3
   },
   "file_extension": ".py",
   "mimetype": "text/x-python",
   "name": "python",
   "nbconvert_exporter": "python",
   "pygments_lexer": "ipython3",
   "version": "3.7.3"
  }
 },
 "nbformat": 4,
 "nbformat_minor": 2
}
