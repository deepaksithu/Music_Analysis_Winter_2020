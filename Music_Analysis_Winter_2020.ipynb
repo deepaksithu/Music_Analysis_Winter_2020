{
 "cells": [
  {
   "cell_type": "markdown",
   "metadata": {},
   "source": [
    "# Music Analysis Winter 2020"
   ]
  },
  {
   "cell_type": "markdown",
   "metadata": {},
   "source": [
    "## Deepak Sithu"
   ]
  },
  {
   "cell_type": "markdown",
   "metadata": {},
   "source": [
    "## Table of Contents\n",
    "- [Overview](#overview)\n",
    "- [Initial Exploration](#exploration)\n",
    "- [Data Wrangling](#wrangling)\n",
    "- [Data Cleaning](#cleaning)\n",
    "- [Analysis](#analysis)\n",
    "- [Conclusion](#conclusion)"
   ]
  },
  {
   "cell_type": "markdown",
   "metadata": {},
   "source": [
    "## Overview <a class=\"anchor\" id=\"overview\"></a>"
   ]
  },
  {
   "cell_type": "code",
   "execution_count": 1,
   "metadata": {},
   "outputs": [],
   "source": [
    "# import libraries\n",
    "import wikipedia as wiki\n",
    "import numpy as np\n",
    "import pandas as pd\n",
    "import matplotlib.pyplot as plt\n",
    "import seaborn as sns\n",
    "\n",
    "%matplotlib inline"
   ]
  },
  {
   "cell_type": "code",
   "execution_count": 2,
   "metadata": {},
   "outputs": [],
   "source": [
    "# import dataset\n",
    "df1 = pd.read_csv('music_winter_2020.csv')"
   ]
  },
  {
   "cell_type": "markdown",
   "metadata": {},
   "source": [
    "## Initial Exploration <a class=\"anchor\" id=\"exploration\"></a>"
   ]
  },
  {
   "cell_type": "code",
   "execution_count": 4,
   "metadata": {},
   "outputs": [
    {
     "data": {
      "text/html": [
       "<div>\n",
       "<style scoped>\n",
       "    .dataframe tbody tr th:only-of-type {\n",
       "        vertical-align: middle;\n",
       "    }\n",
       "\n",
       "    .dataframe tbody tr th {\n",
       "        vertical-align: top;\n",
       "    }\n",
       "\n",
       "    .dataframe thead th {\n",
       "        text-align: right;\n",
       "    }\n",
       "</style>\n",
       "<table border=\"1\" class=\"dataframe\">\n",
       "  <thead>\n",
       "    <tr style=\"text-align: right;\">\n",
       "      <th></th>\n",
       "      <th>Date</th>\n",
       "      <th>Artist</th>\n",
       "      <th>Album</th>\n",
       "      <th>Rating</th>\n",
       "      <th>Notes</th>\n",
       "    </tr>\n",
       "  </thead>\n",
       "  <tbody>\n",
       "    <tr>\n",
       "      <th>0</th>\n",
       "      <td>12/30/2019</td>\n",
       "      <td>Self Esteem</td>\n",
       "      <td>Compliments Please (DLX)</td>\n",
       "      <td>9-10</td>\n",
       "      <td>repeat!!!</td>\n",
       "    </tr>\n",
       "    <tr>\n",
       "      <th>1</th>\n",
       "      <td>12/30/2019</td>\n",
       "      <td>Self Esteem</td>\n",
       "      <td>Compliments Please (DLX)</td>\n",
       "      <td>9-10</td>\n",
       "      <td>repeat!!!</td>\n",
       "    </tr>\n",
       "    <tr>\n",
       "      <th>2</th>\n",
       "      <td>12/30/2019</td>\n",
       "      <td>Lincoln</td>\n",
       "      <td>A Constant State of Ohio</td>\n",
       "      <td>9</td>\n",
       "      <td>&lt;3 &lt;3 &lt;3 Deepti's reccomendation!!!</td>\n",
       "    </tr>\n",
       "    <tr>\n",
       "      <th>3</th>\n",
       "      <td>12/31/2019</td>\n",
       "      <td>Carole King</td>\n",
       "      <td>Tapestry</td>\n",
       "      <td>7-8</td>\n",
       "      <td>NaN</td>\n",
       "    </tr>\n",
       "    <tr>\n",
       "      <th>4</th>\n",
       "      <td>12/31/2019</td>\n",
       "      <td>Robert Ashley</td>\n",
       "      <td>Improvement (Don Leaves Linda)</td>\n",
       "      <td>7</td>\n",
       "      <td>* * *</td>\n",
       "    </tr>\n",
       "  </tbody>\n",
       "</table>\n",
       "</div>"
      ],
      "text/plain": [
       "         Date         Artist                            Album Rating  \\\n",
       "0  12/30/2019    Self Esteem         Compliments Please (DLX)   9-10   \n",
       "1  12/30/2019    Self Esteem         Compliments Please (DLX)   9-10   \n",
       "2  12/30/2019        Lincoln         A Constant State of Ohio      9   \n",
       "3  12/31/2019    Carole King                         Tapestry    7-8   \n",
       "4  12/31/2019  Robert Ashley  Improvement (Don Leaves Linda)       7   \n",
       "\n",
       "                                 Notes  \n",
       "0                            repeat!!!  \n",
       "1                            repeat!!!  \n",
       "2  <3 <3 <3 Deepti's reccomendation!!!  \n",
       "3                                  NaN  \n",
       "4                                * * *  "
      ]
     },
     "execution_count": 4,
     "metadata": {},
     "output_type": "execute_result"
    }
   ],
   "source": [
    "df1.head()"
   ]
  },
  {
   "cell_type": "code",
   "execution_count": 3,
   "metadata": {},
   "outputs": [
    {
     "name": "stdout",
     "output_type": "stream",
     "text": [
      "<class 'pandas.core.frame.DataFrame'>\n",
      "RangeIndex: 288 entries, 0 to 287\n",
      "Data columns (total 5 columns):\n",
      "Date      288 non-null object\n",
      "Artist    288 non-null object\n",
      "Album     288 non-null object\n",
      "Rating    288 non-null object\n",
      "Notes     172 non-null object\n",
      "dtypes: object(5)\n",
      "memory usage: 11.3+ KB\n"
     ]
    }
   ],
   "source": [
    "df1.info()"
   ]
  },
  {
   "cell_type": "markdown",
   "metadata": {},
   "source": [
    "## Data Wrangling <a class=\"anchor\" id=\"wrangling\"></a>"
   ]
  },
  {
   "cell_type": "code",
   "execution_count": 8,
   "metadata": {},
   "outputs": [
    {
     "data": {
      "text/plain": [
       "array(['9-10', '9', '7-8', '7', '8-9', '8', '10', '6-7', '4', '6'],\n",
       "      dtype=object)"
      ]
     },
     "execution_count": 8,
     "metadata": {},
     "output_type": "execute_result"
    }
   ],
   "source": [
    "# 9-10 rated albums\n",
    "df1.Rating.unique()"
   ]
  },
  {
   "cell_type": "code",
   "execution_count": 9,
   "metadata": {},
   "outputs": [
    {
     "data": {
      "text/html": [
       "<div>\n",
       "<style scoped>\n",
       "    .dataframe tbody tr th:only-of-type {\n",
       "        vertical-align: middle;\n",
       "    }\n",
       "\n",
       "    .dataframe tbody tr th {\n",
       "        vertical-align: top;\n",
       "    }\n",
       "\n",
       "    .dataframe thead th {\n",
       "        text-align: right;\n",
       "    }\n",
       "</style>\n",
       "<table border=\"1\" class=\"dataframe\">\n",
       "  <thead>\n",
       "    <tr style=\"text-align: right;\">\n",
       "      <th></th>\n",
       "      <th>Date</th>\n",
       "      <th>Artist</th>\n",
       "      <th>Album</th>\n",
       "      <th>Rating</th>\n",
       "      <th>Notes</th>\n",
       "    </tr>\n",
       "  </thead>\n",
       "  <tbody>\n",
       "    <tr>\n",
       "      <th>243</th>\n",
       "      <td>3/9/2020</td>\n",
       "      <td>Kesha</td>\n",
       "      <td>High Road</td>\n",
       "      <td>4</td>\n",
       "      <td>bailed out @ 'Honey'</td>\n",
       "    </tr>\n",
       "  </tbody>\n",
       "</table>\n",
       "</div>"
      ],
      "text/plain": [
       "         Date Artist      Album Rating                 Notes\n",
       "243  3/9/2020  Kesha  High Road      4  bailed out @ 'Honey'"
      ]
     },
     "execution_count": 9,
     "metadata": {},
     "output_type": "execute_result"
    }
   ],
   "source": [
    "df1[df1['Rating'] == '4']"
   ]
  },
  {
   "cell_type": "code",
   "execution_count": 10,
   "metadata": {},
   "outputs": [
    {
     "data": {
      "text/plain": [
       "array(['repeat!!!', \"<3 <3 <3 Deepti's reccomendation!!!\", nan, '* * *',\n",
       "       'get into!!!', '<3 <3 <3 <3 <3', 'repeat!!',\n",
       "       'repeat!!! sent Deepti!!!', 'sex music?',\n",
       "       'repeat!!! send Jonny!!!', 'solid!!!',\n",
       "       \"Deepti's recommendation!!!\", 'repeat!', 'BUY',\n",
       "       'repeat!!! (recc to Jonny and Cy!!!)', '<3 <3 <3', 'BUY!!!',\n",
       "       '<3 <3 <3 Deepti recc!!!', 'BUY and get into and repeat!!!',\n",
       "       'repeat!! (\"You, Me & Nobody Else\")', 'repeat!!! and get into!!!',\n",
       "       'repeat!!! and read!!!', 'get into though!!!',\n",
       "       'repeat!!! get into!!!', 'zumba music <3', 'meditation music',\n",
       "       'BUY <3 <3 <3', \"Deepti's reccomendation!!!\",\n",
       "       'kinda complainy alcoholic guy vibe',\n",
       "       'repeat!!! Deepti may like!!!', 'repeat!!! research!!!',\n",
       "       'yo get into bruce!!!', 'called the Denzel Curry spot!!!',\n",
       "       \"bailed out @ 'Honey'\", 'like Dave!',\n",
       "       'bailed at first song when they said, \"like arabs on the track\"'],\n",
       "      dtype=object)"
      ]
     },
     "execution_count": 10,
     "metadata": {},
     "output_type": "execute_result"
    }
   ],
   "source": [
    "df1.Notes.unique()"
   ]
  },
  {
   "cell_type": "code",
   "execution_count": 11,
   "metadata": {},
   "outputs": [
    {
     "data": {
      "text/html": [
       "<div>\n",
       "<style scoped>\n",
       "    .dataframe tbody tr th:only-of-type {\n",
       "        vertical-align: middle;\n",
       "    }\n",
       "\n",
       "    .dataframe tbody tr th {\n",
       "        vertical-align: top;\n",
       "    }\n",
       "\n",
       "    .dataframe thead th {\n",
       "        text-align: right;\n",
       "    }\n",
       "</style>\n",
       "<table border=\"1\" class=\"dataframe\">\n",
       "  <thead>\n",
       "    <tr style=\"text-align: right;\">\n",
       "      <th></th>\n",
       "      <th>Date</th>\n",
       "      <th>Artist</th>\n",
       "      <th>Album</th>\n",
       "      <th>Rating</th>\n",
       "      <th>Notes</th>\n",
       "    </tr>\n",
       "  </thead>\n",
       "  <tbody>\n",
       "    <tr>\n",
       "      <th>266</th>\n",
       "      <td>3/16/2020</td>\n",
       "      <td>Tanya Tucker</td>\n",
       "      <td>While I'm Livin'</td>\n",
       "      <td>6</td>\n",
       "      <td>bailed at first song when they said, \"like ara...</td>\n",
       "    </tr>\n",
       "  </tbody>\n",
       "</table>\n",
       "</div>"
      ],
      "text/plain": [
       "          Date        Artist             Album Rating  \\\n",
       "266  3/16/2020  Tanya Tucker  While I'm Livin'      6   \n",
       "\n",
       "                                                 Notes  \n",
       "266  bailed at first song when they said, \"like ara...  "
      ]
     },
     "execution_count": 11,
     "metadata": {},
     "output_type": "execute_result"
    }
   ],
   "source": [
    "df1[df1['Notes'] == 'bailed at first song when they said, \"like arabs on the track\"']"
   ]
  },
  {
   "cell_type": "code",
   "execution_count": null,
   "metadata": {},
   "outputs": [],
   "source": [
    "##### make list of names of artists where they will show up correctly when searched on wikipedia!!! (like self-esteem)"
   ]
  },
  {
   "cell_type": "markdown",
   "metadata": {},
   "source": []
  },
  {
   "cell_type": "code",
   "execution_count": 15,
   "metadata": {},
   "outputs": [
    {
     "data": {
      "text/plain": [
       "\"Carole King (born Carol Joan Klein, February 9, 1942) is an American singer-songwriter who has been active since 1958, initially as one of the staff songwriters at the Brill Building and later as a solo artist. She is the most successful female songwriter of the latter half of the 20th century in the US, having written or co-written 118 pop hits on the Billboard Hot 100.  King also wrote 61 hits that charted in the UK,  making her the most successful female songwriter on the UK singles charts between 1952 and 2005.King's major success began in the 1960s when she and her first husband, Gerry Goffin, wrote more than two dozen chart hits, many of which have become standards, for numerous artists. She has continued writing for other artists since then. King's success as a performer in her own right did not come until the 1970s, when she sang her own songs, accompanying herself on the piano, in a series of albums and concerts. After experiencing commercial disappointment with her debut album Writer, King scored her breakthrough with the album Tapestry, which topped the U.S. album chart for 15 weeks in 1971 and remained on the charts for more than six years.King has made 25 solo albums, the most successful being Tapestry, which held the record for most weeks at No. 1 by a female artist for more than 20 years. Her record sales were estimated at more than 75 million copies worldwide. She has won four Grammy Awards and was inducted into the Songwriters Hall of Fame and the Rock and Roll Hall of Fame for her songwriting. She is the recipient of the 2013 Library of Congress Gershwin Prize for Popular Song, the first woman to be so honored.  She is also a 2015 Kennedy Center Honoree.\""
      ]
     },
     "execution_count": 15,
     "metadata": {},
     "output_type": "execute_result"
    }
   ],
   "source": [
    "wiki.summary(df1.Artist[3])"
   ]
  },
  {
   "cell_type": "code",
   "execution_count": null,
   "metadata": {},
   "outputs": [],
   "source": [
    "# Quality\n",
    "# - completeness (bring in genre info from wikipedia)\n",
    "# - validity\n",
    "# - accurary\n",
    "# - consistency"
   ]
  },
  {
   "cell_type": "markdown",
   "metadata": {},
   "source": [
    "## Data Cleaning <a class=\"anchor\" id=\"cleaning\"></a>"
   ]
  },
  {
   "cell_type": "code",
   "execution_count": null,
   "metadata": {},
   "outputs": [],
   "source": [
    "# list issues\n",
    "# copy dataframes\n",
    "# address completeness issues\n",
    "# address tidiness issues\n",
    "# address remaining quality issues\n",
    "# store dataframes\n",
    "# finalize dataframes\n"
   ]
  },
  {
   "cell_type": "markdown",
   "metadata": {},
   "source": [
    "## Issues\n",
    "- convert Date to datetime format\n",
    "- convert Rating to int\n",
    "- adjust half numbers\n",
    "- convert repeats in Notes\n",
    "- check out of range numbers and what to do with them\n",
    "- separate repeats from other types of notes and potentially make them into separate columns\n",
    "- remove Kesha 'high road' and Tanya Tucker While I'm Livin"
   ]
  },
  {
   "cell_type": "raw",
   "metadata": {},
   "source": []
  },
  {
   "cell_type": "markdown",
   "metadata": {},
   "source": [
    "### Issue"
   ]
  },
  {
   "cell_type": "markdown",
   "metadata": {},
   "source": [
    "### Define"
   ]
  },
  {
   "cell_type": "markdown",
   "metadata": {},
   "source": [
    "### Code"
   ]
  },
  {
   "cell_type": "markdown",
   "metadata": {},
   "source": [
    "### Test"
   ]
  },
  {
   "cell_type": "markdown",
   "metadata": {},
   "source": [
    "## Analysis <a class=\"anchor\" id=\"analysis\"></a>"
   ]
  },
  {
   "cell_type": "code",
   "execution_count": null,
   "metadata": {},
   "outputs": [],
   "source": [
    "# initial exploration\n",
    "# univariate analysis and visualizations\n",
    "# bivariate analysis and visualizations\n",
    "# multivariate analysis and visualizations\n",
    "# statistical analysis"
   ]
  },
  {
   "cell_type": "markdown",
   "metadata": {},
   "source": [
    "## Conclusion <a class=\"anchor\" id=\"conclusion\"></a>"
   ]
  },
  {
   "cell_type": "code",
   "execution_count": null,
   "metadata": {},
   "outputs": [],
   "source": [
    "# explanatory visualizations\n",
    "# conclusions\n",
    "# limitations"
   ]
  }
 ],
 "metadata": {
  "kernelspec": {
   "display_name": "Python 3",
   "language": "python",
   "name": "python3"
  },
  "language_info": {
   "codemirror_mode": {
    "name": "ipython",
    "version": 3
   },
   "file_extension": ".py",
   "mimetype": "text/x-python",
   "name": "python",
   "nbconvert_exporter": "python",
   "pygments_lexer": "ipython3",
   "version": "3.7.3"
  }
 },
 "nbformat": 4,
 "nbformat_minor": 2
}
