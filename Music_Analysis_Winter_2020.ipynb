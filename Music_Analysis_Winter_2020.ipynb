{
 "cells": [
  {
   "cell_type": "markdown",
   "metadata": {},
   "source": [
    "# Music Analysis Winter 2020"
   ]
  },
  {
   "cell_type": "markdown",
   "metadata": {},
   "source": [
    "## Deepak Sithu"
   ]
  },
  {
   "cell_type": "markdown",
   "metadata": {},
   "source": [
    "## Table of Contents\n",
    "- [Overview](#overview)\n",
    "- [Initial Exploration](#exploration)\n",
    "- [Data Wrangling](#wrangling)\n",
    "- [Data Cleaning](#cleaning)\n",
    "- [Analysis](#analysis)\n",
    "- [Conclusion](#conclusion)"
   ]
  },
  {
   "cell_type": "markdown",
   "metadata": {},
   "source": [
    "## Overview <a class=\"anchor\" id=\"overview\"></a>"
   ]
  },
  {
   "cell_type": "code",
   "execution_count": 1,
   "metadata": {},
   "outputs": [],
   "source": [
    "# import libraries\n",
    "import wikipedia as wiki\n",
    "import numpy as np\n",
    "import pandas as pd\n",
    "import matplotlib.pyplot as plt\n",
    "import seaborn as sns\n",
    "\n",
    "%matplotlib inline"
   ]
  },
  {
   "cell_type": "code",
   "execution_count": 2,
   "metadata": {},
   "outputs": [],
   "source": [
    "# import dataset\n",
    "df1 = pd.read_csv('music_winter_2020.csv')"
   ]
  },
  {
   "cell_type": "markdown",
   "metadata": {},
   "source": [
    "## Initial Exploration <a class=\"anchor\" id=\"exploration\"></a>"
   ]
  },
  {
   "cell_type": "code",
   "execution_count": 4,
   "metadata": {},
   "outputs": [
    {
     "data": {
      "text/html": [
       "<div>\n",
       "<style scoped>\n",
       "    .dataframe tbody tr th:only-of-type {\n",
       "        vertical-align: middle;\n",
       "    }\n",
       "\n",
       "    .dataframe tbody tr th {\n",
       "        vertical-align: top;\n",
       "    }\n",
       "\n",
       "    .dataframe thead th {\n",
       "        text-align: right;\n",
       "    }\n",
       "</style>\n",
       "<table border=\"1\" class=\"dataframe\">\n",
       "  <thead>\n",
       "    <tr style=\"text-align: right;\">\n",
       "      <th></th>\n",
       "      <th>Date</th>\n",
       "      <th>Artist</th>\n",
       "      <th>Album</th>\n",
       "      <th>Rating</th>\n",
       "      <th>Notes</th>\n",
       "    </tr>\n",
       "  </thead>\n",
       "  <tbody>\n",
       "    <tr>\n",
       "      <th>0</th>\n",
       "      <td>12/30/2019</td>\n",
       "      <td>Self Esteem</td>\n",
       "      <td>Compliments Please (DLX)</td>\n",
       "      <td>9-10</td>\n",
       "      <td>repeat!!!</td>\n",
       "    </tr>\n",
       "    <tr>\n",
       "      <th>1</th>\n",
       "      <td>12/30/2019</td>\n",
       "      <td>Self Esteem</td>\n",
       "      <td>Compliments Please (DLX)</td>\n",
       "      <td>9-10</td>\n",
       "      <td>repeat!!!</td>\n",
       "    </tr>\n",
       "    <tr>\n",
       "      <th>2</th>\n",
       "      <td>12/30/2019</td>\n",
       "      <td>Lincoln</td>\n",
       "      <td>A Constant State of Ohio</td>\n",
       "      <td>9</td>\n",
       "      <td>&lt;3 &lt;3 &lt;3 Deepti's reccomendation!!!</td>\n",
       "    </tr>\n",
       "    <tr>\n",
       "      <th>3</th>\n",
       "      <td>12/31/2019</td>\n",
       "      <td>Carole King</td>\n",
       "      <td>Tapestry</td>\n",
       "      <td>7-8</td>\n",
       "      <td>NaN</td>\n",
       "    </tr>\n",
       "    <tr>\n",
       "      <th>4</th>\n",
       "      <td>12/31/2019</td>\n",
       "      <td>Robert Ashley</td>\n",
       "      <td>Improvement (Don Leaves Linda)</td>\n",
       "      <td>7</td>\n",
       "      <td>* * *</td>\n",
       "    </tr>\n",
       "  </tbody>\n",
       "</table>\n",
       "</div>"
      ],
      "text/plain": [
       "         Date         Artist                            Album Rating  \\\n",
       "0  12/30/2019    Self Esteem         Compliments Please (DLX)   9-10   \n",
       "1  12/30/2019    Self Esteem         Compliments Please (DLX)   9-10   \n",
       "2  12/30/2019        Lincoln         A Constant State of Ohio      9   \n",
       "3  12/31/2019    Carole King                         Tapestry    7-8   \n",
       "4  12/31/2019  Robert Ashley  Improvement (Don Leaves Linda)       7   \n",
       "\n",
       "                                 Notes  \n",
       "0                            repeat!!!  \n",
       "1                            repeat!!!  \n",
       "2  <3 <3 <3 Deepti's reccomendation!!!  \n",
       "3                                  NaN  \n",
       "4                                * * *  "
      ]
     },
     "execution_count": 4,
     "metadata": {},
     "output_type": "execute_result"
    }
   ],
   "source": [
    "df1.head()"
   ]
  },
  {
   "cell_type": "code",
   "execution_count": 3,
   "metadata": {},
   "outputs": [
    {
     "name": "stdout",
     "output_type": "stream",
     "text": [
      "<class 'pandas.core.frame.DataFrame'>\n",
      "RangeIndex: 288 entries, 0 to 287\n",
      "Data columns (total 5 columns):\n",
      "Date      288 non-null object\n",
      "Artist    288 non-null object\n",
      "Album     288 non-null object\n",
      "Rating    288 non-null object\n",
      "Notes     172 non-null object\n",
      "dtypes: object(5)\n",
      "memory usage: 11.3+ KB\n"
     ]
    }
   ],
   "source": [
    "df1.info()"
   ]
  },
  {
   "cell_type": "markdown",
   "metadata": {},
   "source": [
    "## Data Wrangling <a class=\"anchor\" id=\"wrangling\"></a>"
   ]
  },
  {
   "cell_type": "code",
   "execution_count": 8,
   "metadata": {},
   "outputs": [
    {
     "data": {
      "text/plain": [
       "array(['9-10', '9', '7-8', '7', '8-9', '8', '10', '6-7', '4', '6'],\n",
       "      dtype=object)"
      ]
     },
     "execution_count": 8,
     "metadata": {},
     "output_type": "execute_result"
    }
   ],
   "source": [
    "# 9-10 rated albums\n",
    "df1.Rating.unique()"
   ]
  },
  {
   "cell_type": "code",
   "execution_count": 9,
   "metadata": {},
   "outputs": [
    {
     "data": {
      "text/html": [
       "<div>\n",
       "<style scoped>\n",
       "    .dataframe tbody tr th:only-of-type {\n",
       "        vertical-align: middle;\n",
       "    }\n",
       "\n",
       "    .dataframe tbody tr th {\n",
       "        vertical-align: top;\n",
       "    }\n",
       "\n",
       "    .dataframe thead th {\n",
       "        text-align: right;\n",
       "    }\n",
       "</style>\n",
       "<table border=\"1\" class=\"dataframe\">\n",
       "  <thead>\n",
       "    <tr style=\"text-align: right;\">\n",
       "      <th></th>\n",
       "      <th>Date</th>\n",
       "      <th>Artist</th>\n",
       "      <th>Album</th>\n",
       "      <th>Rating</th>\n",
       "      <th>Notes</th>\n",
       "    </tr>\n",
       "  </thead>\n",
       "  <tbody>\n",
       "    <tr>\n",
       "      <th>243</th>\n",
       "      <td>3/9/2020</td>\n",
       "      <td>Kesha</td>\n",
       "      <td>High Road</td>\n",
       "      <td>4</td>\n",
       "      <td>bailed out @ 'Honey'</td>\n",
       "    </tr>\n",
       "  </tbody>\n",
       "</table>\n",
       "</div>"
      ],
      "text/plain": [
       "         Date Artist      Album Rating                 Notes\n",
       "243  3/9/2020  Kesha  High Road      4  bailed out @ 'Honey'"
      ]
     },
     "execution_count": 9,
     "metadata": {},
     "output_type": "execute_result"
    }
   ],
   "source": [
    "df1[df1['Rating'] == '4']"
   ]
  },
  {
   "cell_type": "code",
   "execution_count": 10,
   "metadata": {},
   "outputs": [
    {
     "data": {
      "text/plain": [
       "array(['repeat!!!', \"<3 <3 <3 Deepti's reccomendation!!!\", nan, '* * *',\n",
       "       'get into!!!', '<3 <3 <3 <3 <3', 'repeat!!',\n",
       "       'repeat!!! sent Deepti!!!', 'sex music?',\n",
       "       'repeat!!! send Jonny!!!', 'solid!!!',\n",
       "       \"Deepti's recommendation!!!\", 'repeat!', 'BUY',\n",
       "       'repeat!!! (recc to Jonny and Cy!!!)', '<3 <3 <3', 'BUY!!!',\n",
       "       '<3 <3 <3 Deepti recc!!!', 'BUY and get into and repeat!!!',\n",
       "       'repeat!! (\"You, Me & Nobody Else\")', 'repeat!!! and get into!!!',\n",
       "       'repeat!!! and read!!!', 'get into though!!!',\n",
       "       'repeat!!! get into!!!', 'zumba music <3', 'meditation music',\n",
       "       'BUY <3 <3 <3', \"Deepti's reccomendation!!!\",\n",
       "       'kinda complainy alcoholic guy vibe',\n",
       "       'repeat!!! Deepti may like!!!', 'repeat!!! research!!!',\n",
       "       'yo get into bruce!!!', 'called the Denzel Curry spot!!!',\n",
       "       \"bailed out @ 'Honey'\", 'like Dave!',\n",
       "       'bailed at first song when they said, \"like arabs on the track\"'],\n",
       "      dtype=object)"
      ]
     },
     "execution_count": 10,
     "metadata": {},
     "output_type": "execute_result"
    }
   ],
   "source": [
    "df1.Notes.unique()"
   ]
  },
  {
   "cell_type": "code",
   "execution_count": 11,
   "metadata": {},
   "outputs": [
    {
     "data": {
      "text/html": [
       "<div>\n",
       "<style scoped>\n",
       "    .dataframe tbody tr th:only-of-type {\n",
       "        vertical-align: middle;\n",
       "    }\n",
       "\n",
       "    .dataframe tbody tr th {\n",
       "        vertical-align: top;\n",
       "    }\n",
       "\n",
       "    .dataframe thead th {\n",
       "        text-align: right;\n",
       "    }\n",
       "</style>\n",
       "<table border=\"1\" class=\"dataframe\">\n",
       "  <thead>\n",
       "    <tr style=\"text-align: right;\">\n",
       "      <th></th>\n",
       "      <th>Date</th>\n",
       "      <th>Artist</th>\n",
       "      <th>Album</th>\n",
       "      <th>Rating</th>\n",
       "      <th>Notes</th>\n",
       "    </tr>\n",
       "  </thead>\n",
       "  <tbody>\n",
       "    <tr>\n",
       "      <th>266</th>\n",
       "      <td>3/16/2020</td>\n",
       "      <td>Tanya Tucker</td>\n",
       "      <td>While I'm Livin'</td>\n",
       "      <td>6</td>\n",
       "      <td>bailed at first song when they said, \"like ara...</td>\n",
       "    </tr>\n",
       "  </tbody>\n",
       "</table>\n",
       "</div>"
      ],
      "text/plain": [
       "          Date        Artist             Album Rating  \\\n",
       "266  3/16/2020  Tanya Tucker  While I'm Livin'      6   \n",
       "\n",
       "                                                 Notes  \n",
       "266  bailed at first song when they said, \"like ara...  "
      ]
     },
     "execution_count": 11,
     "metadata": {},
     "output_type": "execute_result"
    }
   ],
   "source": [
    "df1[df1['Notes'] == 'bailed at first song when they said, \"like arabs on the track\"']"
   ]
  },
  {
   "cell_type": "code",
   "execution_count": null,
   "metadata": {},
   "outputs": [],
   "source": [
    "##### make list of names of artists where they will show up correctly when searched on wikipedia!!! (like self-esteem)"
   ]
  },
  {
   "cell_type": "markdown",
   "metadata": {},
   "source": []
  },
  {
   "cell_type": "code",
   "execution_count": 19,
   "metadata": {},
   "outputs": [
    {
     "name": "stdout",
     "output_type": "stream",
     "text": [
      "Carole King music\n"
     ]
    }
   ],
   "source": [
    "print(df1.Artist[3] + \" music\")"
   ]
  },
  {
   "cell_type": "code",
   "execution_count": 22,
   "metadata": {},
   "outputs": [
    {
     "data": {
      "text/plain": [
       "\"Self Esteem is an experimental pop project, consisting solely of musician Rebecca Lucy Taylor.Rebecca released 'Your Wife', the first single under the moniker in 2017.\""
      ]
     },
     "execution_count": 22,
     "metadata": {},
     "output_type": "execute_result"
    }
   ],
   "source": [
    "wiki.summary(df1.Artist[0] + \" musician\", sentences = 1)"
   ]
  },
  {
   "cell_type": "code",
   "execution_count": 35,
   "metadata": {},
   "outputs": [
    {
     "name": "stdout",
     "output_type": "stream",
     "text": [
      "Self Esteem\n",
      "Self Esteem\n",
      "Lincoln\n",
      "Carole King\n",
      "Robert Ashley\n",
      "Robert Ashley\n",
      "Self Esteem\n",
      "Robert Ashley\n",
      "Self Esteem\n",
      "Yazz Ahmed\n",
      "TNGHT\n"
     ]
    }
   ],
   "source": [
    "for i in range(len(df1.loc[0:10])):\n",
    "    print(df1.Artist[i])"
   ]
  },
  {
   "cell_type": "code",
   "execution_count": 39,
   "metadata": {},
   "outputs": [
    {
     "name": "stdout",
     "output_type": "stream",
     "text": [
      "Self-esteem is an individual's subjective evaluation of their own worth.\n",
      "Self-esteem is an individual's subjective evaluation of their own worth.\n"
     ]
    },
    {
     "name": "stderr",
     "output_type": "stream",
     "text": [
      "C:\\Users\\deepak\\Anaconda3\\lib\\site-packages\\wikipedia\\wikipedia.py:389: UserWarning: No parser was explicitly specified, so I'm using the best available HTML parser for this system (\"lxml\"). This usually isn't a problem, but if you run this code on another system, or in a different virtual environment, it may use a different parser and behave differently.\n",
      "\n",
      "The code that caused this warning is on line 389 of the file C:\\Users\\deepak\\Anaconda3\\lib\\site-packages\\wikipedia\\wikipedia.py. To get rid of this warning, pass the additional argument 'features=\"lxml\"' to the BeautifulSoup constructor.\n",
      "\n",
      "  lis = BeautifulSoup(html).find_all('li')\n"
     ]
    },
    {
     "name": "stdout",
     "output_type": "stream",
     "text": [
      "['Abraham Lincoln', 'Lincoln, England', 'Lincoln, Nebraska', 'Lincoln (name)', 'Lincoln Motor Company', 'Lincoln, Alberta', 'Lincoln, New Brunswick', 'Lincoln, Ontario', 'Lincoln (electoral district)', 'Lincoln (provincial electoral district)', 'Lincoln, England', 'Lincoln (UK Parliament constituency)', 'Lincoln Green', 'Lincoln, Alabama', 'Lincoln, Arkansas', 'Lincoln, California', 'Lincoln, Madera County, California', 'Lincoln, Delaware', 'Lincoln, Idaho', 'Lincoln, Illinois', 'Lincoln, Indiana', 'Lincoln, Iowa', 'Lincoln Center, Kansas', 'Lincoln Parish, Louisiana', 'Lincoln, Maine', 'Lincoln Plantation, Maine', 'Lincoln, Massachusetts', 'Lincoln, Michigan', 'Lincoln, Missouri', 'Lincoln, Minnesota', 'Lincoln, Montana', 'Lincoln, Nebraska', 'Lincoln, New Hampshire', 'Lincoln (CDP), New Hampshire', 'Lincoln, Gloucester County, New Jersey', 'Lincoln, New Mexico', 'Lincoln, New York', 'Lincoln, North Dakota', 'Lincoln, Jackson County, Oregon', 'Lincoln, Pennsylvania', 'Lincoln, Rhode Island', 'Lincoln, Texas', 'Lincoln, Vermont', 'Lincoln, Virginia', 'Lincoln, Washington', 'Lincoln, West Virginia', 'Lincoln, Adams County, Wisconsin', 'Lincoln, Bayfield County, Wisconsin', 'Lincoln, Buffalo County, Wisconsin', 'Lincoln, Burnett County, Wisconsin', 'Lincoln, Eau Claire County, Wisconsin', 'Lincoln, Forest County, Wisconsin', 'Lincoln, Kewaunee County, Wisconsin', 'Lincoln (community), Wisconsin', 'Lincoln, Monroe County, Wisconsin', 'Lincoln, Polk County, Wisconsin', 'Lincoln, Trempealeau County, Wisconsin', 'Lincoln, Vilas County, Wisconsin', 'Lincoln, Wood County, Wisconsin', 'Clinton, California', 'Lincoln (proposed Northwestern state)', 'Lincoln (proposed Southern state)', 'Lincoln, Buenos Aires', 'Lincoln Partido', 'Port Lincoln', 'Lincoln, Tasmania', 'Motu One (Marquesas Islands)', 'Lincoln, New Zealand', 'Lincoln (New Zealand electorate)', 'Lincoln, Auckland', 'Lincoln Records', 'Lincoln (album)', 'Lincoln (band)', 'Hal Holbrook', 'Lincoln (miniseries)', 'Lincoln (TV series)', 'The Mysterious Island', 'Lincoln (play)', 'Lincoln (novel)', 'The 100', 'Lincoln (film)', 'Lincoln Electric', 'Lincoln International', 'Lincoln Logs', 'Lincoln Motor Car Works', 'Lincoln Motor Company', 'Lincoln National Corporation', 'Lincoln Snacks Company', 'Lincoln (surveillance)', 'Lincoln Academy (disambiguation)', \"Lincoln Christ's Hospital School\", 'Lincoln College (disambiguation)', 'Lincoln Elementary School (disambiguation)', 'Lincoln Group of Schools', 'Lincoln High School (disambiguation)', 'Lincoln School (disambiguation)', 'Lincoln Tech', 'Lincoln University (disambiguation)', 'Old Lincoln High School', 'University of Lincoln', 'Lincoln City F.C.', 'Lincoln Red Imps F.C.', 'Lincoln Temple United Church of Christ', 'Lincoln–Lee Legion', 'Lincoln sheep', 'Lincoln (grape)', 'Abraham Lincoln Memorial Monument', 'Lincoln Memorial', 'Lincoln Monument (Dixon, Illinois)', 'Lincoln Monument of Wabash, Indiana', 'Avro Lincoln', 'HMS Lincoln', 'USS Abraham Lincoln', 'Lincoln station (Illinois)', 'Lincoln station (MBTA)', 'Lincoln station (Nebraska)', 'Lincoln station (Nebraska, 1926–2012)', 'Lincoln station (RTD)', 'Lincoln station (SkyTrain)', 'Lincoln Central railway station', 'Lincoln St. Marks railway station', 'Lincoln Highway (Australia)', 'Lincoln Highway', 'Route of the Lincoln Highway', 'Lincoln Highway (Delaware)', 'Lincoln Highway (Omaha)', 'Lincoln Highway in Greene County, Iowa', 'Lincoln Tunnel', 'Lincoln Drive', 'Lincoln Drive Bridge', 'Lincoln (1914 automobile)', 'Lincoln (footballer, born 1979)', 'Lincoln (footballer, born 1996)', 'Lincoln (footballer, born 1998)', 'Lincoln (footballer, born 2000)', 'Lincoln (tree)', 'Lincoln biscuit', 'Lincoln cent', 'Lincoln green', 'Lincoln Way (San Francisco)', 'Camp Lincoln (disambiguation)', 'Lincoln Bridge (disambiguation)', 'Lincoln Cemetery (disambiguation)', 'Lincoln Center (disambiguation)', 'Lincoln City (disambiguation)', 'Lincoln County (disambiguation)', 'Lincoln Institute (disambiguation)', 'Lincoln Heights (disambiguation)', 'Lincoln Park (disambiguation)', 'Lincoln Speedway (disambiguation)', 'Lincoln Square (disambiguation)', 'Lincoln Township (disambiguation)', 'Lincoln Village (disambiguation)', 'Mount Lincoln'] 10\n",
      "Carole King (born Carol Joan Klein, February 9, 1942) is an American singer-songwriter who has been active since 1958, initially as one of the staff songwriters at the Brill Building and later as a solo artist.\n",
      "Robert Reynolds Ashley (March 28, 1930 – March 3, 2014) was an American contemporary composer, who was best known for his television operas and other theatrical works, many of which incorporate electronics and extended techniques.\n",
      "Robert Reynolds Ashley (March 28, 1930 – March 3, 2014) was an American contemporary composer, who was best known for his television operas and other theatrical works, many of which incorporate electronics and extended techniques.\n",
      "Self-esteem is an individual's subjective evaluation of their own worth.\n",
      "Robert Reynolds Ashley (March 28, 1930 – March 3, 2014) was an American contemporary composer, who was best known for his television operas and other theatrical works, many of which incorporate electronics and extended techniques.\n",
      "Self-esteem is an individual's subjective evaluation of their own worth.\n"
     ]
    },
    {
     "ename": "PageError",
     "evalue": "Page id \"yazd ahmad\" does not match any pages. Try another id!",
     "output_type": "error",
     "traceback": [
      "\u001b[1;31m---------------------------------------------------------------------------\u001b[0m",
      "\u001b[1;31mPageError\u001b[0m                                 Traceback (most recent call last)",
      "\u001b[1;32m<ipython-input-39-9910be336415>\u001b[0m in \u001b[0;36m<module>\u001b[1;34m\u001b[0m\n\u001b[0;32m      1\u001b[0m \u001b[1;32mfor\u001b[0m \u001b[0mi\u001b[0m \u001b[1;32min\u001b[0m \u001b[0mrange\u001b[0m\u001b[1;33m(\u001b[0m\u001b[0mlen\u001b[0m\u001b[1;33m(\u001b[0m\u001b[0mdf1\u001b[0m\u001b[1;33m.\u001b[0m\u001b[0mloc\u001b[0m\u001b[1;33m[\u001b[0m\u001b[1;36m0\u001b[0m\u001b[1;33m:\u001b[0m\u001b[1;36m10\u001b[0m\u001b[1;33m]\u001b[0m\u001b[1;33m)\u001b[0m\u001b[1;33m)\u001b[0m\u001b[1;33m:\u001b[0m\u001b[1;33m\u001b[0m\u001b[1;33m\u001b[0m\u001b[0m\n\u001b[0;32m      2\u001b[0m     \u001b[1;32mtry\u001b[0m\u001b[1;33m:\u001b[0m\u001b[1;33m\u001b[0m\u001b[1;33m\u001b[0m\u001b[0m\n\u001b[1;32m----> 3\u001b[1;33m         \u001b[0mprint\u001b[0m\u001b[1;33m(\u001b[0m\u001b[0mwiki\u001b[0m\u001b[1;33m.\u001b[0m\u001b[0msummary\u001b[0m\u001b[1;33m(\u001b[0m\u001b[0mdf1\u001b[0m\u001b[1;33m.\u001b[0m\u001b[0mArtist\u001b[0m\u001b[1;33m[\u001b[0m\u001b[0mi\u001b[0m\u001b[1;33m]\u001b[0m\u001b[1;33m,\u001b[0m \u001b[0msentences\u001b[0m \u001b[1;33m=\u001b[0m \u001b[1;36m1\u001b[0m\u001b[1;33m)\u001b[0m\u001b[1;33m)\u001b[0m\u001b[1;33m\u001b[0m\u001b[1;33m\u001b[0m\u001b[0m\n\u001b[0m\u001b[0;32m      4\u001b[0m     \u001b[1;32mexcept\u001b[0m \u001b[0mwiki\u001b[0m\u001b[1;33m.\u001b[0m\u001b[0mexceptions\u001b[0m\u001b[1;33m.\u001b[0m\u001b[0mDisambiguationError\u001b[0m \u001b[1;32mas\u001b[0m \u001b[0me\u001b[0m\u001b[1;33m:\u001b[0m\u001b[1;33m\u001b[0m\u001b[1;33m\u001b[0m\u001b[0m\n\u001b[0;32m      5\u001b[0m         \u001b[0mprint\u001b[0m\u001b[1;33m(\u001b[0m\u001b[0me\u001b[0m\u001b[1;33m.\u001b[0m\u001b[0moptions\u001b[0m\u001b[1;33m,\u001b[0m \u001b[1;36m10\u001b[0m\u001b[1;33m)\u001b[0m\u001b[1;33m\u001b[0m\u001b[1;33m\u001b[0m\u001b[0m\n",
      "\u001b[1;32m~\\Anaconda3\\lib\\site-packages\\wikipedia\\util.py\u001b[0m in \u001b[0;36m__call__\u001b[1;34m(self, *args, **kwargs)\u001b[0m\n\u001b[0;32m     26\u001b[0m       \u001b[0mret\u001b[0m \u001b[1;33m=\u001b[0m \u001b[0mself\u001b[0m\u001b[1;33m.\u001b[0m\u001b[0m_cache\u001b[0m\u001b[1;33m[\u001b[0m\u001b[0mkey\u001b[0m\u001b[1;33m]\u001b[0m\u001b[1;33m\u001b[0m\u001b[1;33m\u001b[0m\u001b[0m\n\u001b[0;32m     27\u001b[0m     \u001b[1;32melse\u001b[0m\u001b[1;33m:\u001b[0m\u001b[1;33m\u001b[0m\u001b[1;33m\u001b[0m\u001b[0m\n\u001b[1;32m---> 28\u001b[1;33m       \u001b[0mret\u001b[0m \u001b[1;33m=\u001b[0m \u001b[0mself\u001b[0m\u001b[1;33m.\u001b[0m\u001b[0m_cache\u001b[0m\u001b[1;33m[\u001b[0m\u001b[0mkey\u001b[0m\u001b[1;33m]\u001b[0m \u001b[1;33m=\u001b[0m \u001b[0mself\u001b[0m\u001b[1;33m.\u001b[0m\u001b[0mfn\u001b[0m\u001b[1;33m(\u001b[0m\u001b[1;33m*\u001b[0m\u001b[0margs\u001b[0m\u001b[1;33m,\u001b[0m \u001b[1;33m**\u001b[0m\u001b[0mkwargs\u001b[0m\u001b[1;33m)\u001b[0m\u001b[1;33m\u001b[0m\u001b[1;33m\u001b[0m\u001b[0m\n\u001b[0m\u001b[0;32m     29\u001b[0m \u001b[1;33m\u001b[0m\u001b[0m\n\u001b[0;32m     30\u001b[0m     \u001b[1;32mreturn\u001b[0m \u001b[0mret\u001b[0m\u001b[1;33m\u001b[0m\u001b[1;33m\u001b[0m\u001b[0m\n",
      "\u001b[1;32m~\\Anaconda3\\lib\\site-packages\\wikipedia\\wikipedia.py\u001b[0m in \u001b[0;36msummary\u001b[1;34m(title, sentences, chars, auto_suggest, redirect)\u001b[0m\n\u001b[0;32m    229\u001b[0m   \u001b[1;31m# use auto_suggest and redirect to get the correct article\u001b[0m\u001b[1;33m\u001b[0m\u001b[1;33m\u001b[0m\u001b[1;33m\u001b[0m\u001b[0m\n\u001b[0;32m    230\u001b[0m   \u001b[1;31m# also, use page's error checking to raise DisambiguationError if necessary\u001b[0m\u001b[1;33m\u001b[0m\u001b[1;33m\u001b[0m\u001b[1;33m\u001b[0m\u001b[0m\n\u001b[1;32m--> 231\u001b[1;33m   \u001b[0mpage_info\u001b[0m \u001b[1;33m=\u001b[0m \u001b[0mpage\u001b[0m\u001b[1;33m(\u001b[0m\u001b[0mtitle\u001b[0m\u001b[1;33m,\u001b[0m \u001b[0mauto_suggest\u001b[0m\u001b[1;33m=\u001b[0m\u001b[0mauto_suggest\u001b[0m\u001b[1;33m,\u001b[0m \u001b[0mredirect\u001b[0m\u001b[1;33m=\u001b[0m\u001b[0mredirect\u001b[0m\u001b[1;33m)\u001b[0m\u001b[1;33m\u001b[0m\u001b[1;33m\u001b[0m\u001b[0m\n\u001b[0m\u001b[0;32m    232\u001b[0m   \u001b[0mtitle\u001b[0m \u001b[1;33m=\u001b[0m \u001b[0mpage_info\u001b[0m\u001b[1;33m.\u001b[0m\u001b[0mtitle\u001b[0m\u001b[1;33m\u001b[0m\u001b[1;33m\u001b[0m\u001b[0m\n\u001b[0;32m    233\u001b[0m   \u001b[0mpageid\u001b[0m \u001b[1;33m=\u001b[0m \u001b[0mpage_info\u001b[0m\u001b[1;33m.\u001b[0m\u001b[0mpageid\u001b[0m\u001b[1;33m\u001b[0m\u001b[1;33m\u001b[0m\u001b[0m\n",
      "\u001b[1;32m~\\Anaconda3\\lib\\site-packages\\wikipedia\\wikipedia.py\u001b[0m in \u001b[0;36mpage\u001b[1;34m(title, pageid, auto_suggest, redirect, preload)\u001b[0m\n\u001b[0;32m    274\u001b[0m         \u001b[1;31m# if there is no suggestion or search results, the page doesn't exist\u001b[0m\u001b[1;33m\u001b[0m\u001b[1;33m\u001b[0m\u001b[1;33m\u001b[0m\u001b[0m\n\u001b[0;32m    275\u001b[0m         \u001b[1;32mraise\u001b[0m \u001b[0mPageError\u001b[0m\u001b[1;33m(\u001b[0m\u001b[0mtitle\u001b[0m\u001b[1;33m)\u001b[0m\u001b[1;33m\u001b[0m\u001b[1;33m\u001b[0m\u001b[0m\n\u001b[1;32m--> 276\u001b[1;33m     \u001b[1;32mreturn\u001b[0m \u001b[0mWikipediaPage\u001b[0m\u001b[1;33m(\u001b[0m\u001b[0mtitle\u001b[0m\u001b[1;33m,\u001b[0m \u001b[0mredirect\u001b[0m\u001b[1;33m=\u001b[0m\u001b[0mredirect\u001b[0m\u001b[1;33m,\u001b[0m \u001b[0mpreload\u001b[0m\u001b[1;33m=\u001b[0m\u001b[0mpreload\u001b[0m\u001b[1;33m)\u001b[0m\u001b[1;33m\u001b[0m\u001b[1;33m\u001b[0m\u001b[0m\n\u001b[0m\u001b[0;32m    277\u001b[0m   \u001b[1;32melif\u001b[0m \u001b[0mpageid\u001b[0m \u001b[1;32mis\u001b[0m \u001b[1;32mnot\u001b[0m \u001b[1;32mNone\u001b[0m\u001b[1;33m:\u001b[0m\u001b[1;33m\u001b[0m\u001b[1;33m\u001b[0m\u001b[0m\n\u001b[0;32m    278\u001b[0m     \u001b[1;32mreturn\u001b[0m \u001b[0mWikipediaPage\u001b[0m\u001b[1;33m(\u001b[0m\u001b[0mpageid\u001b[0m\u001b[1;33m=\u001b[0m\u001b[0mpageid\u001b[0m\u001b[1;33m,\u001b[0m \u001b[0mpreload\u001b[0m\u001b[1;33m=\u001b[0m\u001b[0mpreload\u001b[0m\u001b[1;33m)\u001b[0m\u001b[1;33m\u001b[0m\u001b[1;33m\u001b[0m\u001b[0m\n",
      "\u001b[1;32m~\\Anaconda3\\lib\\site-packages\\wikipedia\\wikipedia.py\u001b[0m in \u001b[0;36m__init__\u001b[1;34m(self, title, pageid, redirect, preload, original_title)\u001b[0m\n\u001b[0;32m    297\u001b[0m       \u001b[1;32mraise\u001b[0m \u001b[0mValueError\u001b[0m\u001b[1;33m(\u001b[0m\u001b[1;34m\"Either a title or a pageid must be specified\"\u001b[0m\u001b[1;33m)\u001b[0m\u001b[1;33m\u001b[0m\u001b[1;33m\u001b[0m\u001b[0m\n\u001b[0;32m    298\u001b[0m \u001b[1;33m\u001b[0m\u001b[0m\n\u001b[1;32m--> 299\u001b[1;33m     \u001b[0mself\u001b[0m\u001b[1;33m.\u001b[0m\u001b[0m__load\u001b[0m\u001b[1;33m(\u001b[0m\u001b[0mredirect\u001b[0m\u001b[1;33m=\u001b[0m\u001b[0mredirect\u001b[0m\u001b[1;33m,\u001b[0m \u001b[0mpreload\u001b[0m\u001b[1;33m=\u001b[0m\u001b[0mpreload\u001b[0m\u001b[1;33m)\u001b[0m\u001b[1;33m\u001b[0m\u001b[1;33m\u001b[0m\u001b[0m\n\u001b[0m\u001b[0;32m    300\u001b[0m \u001b[1;33m\u001b[0m\u001b[0m\n\u001b[0;32m    301\u001b[0m     \u001b[1;32mif\u001b[0m \u001b[0mpreload\u001b[0m\u001b[1;33m:\u001b[0m\u001b[1;33m\u001b[0m\u001b[1;33m\u001b[0m\u001b[0m\n",
      "\u001b[1;32m~\\Anaconda3\\lib\\site-packages\\wikipedia\\wikipedia.py\u001b[0m in \u001b[0;36m__load\u001b[1;34m(self, redirect, preload)\u001b[0m\n\u001b[0;32m    343\u001b[0m     \u001b[1;32mif\u001b[0m \u001b[1;34m'missing'\u001b[0m \u001b[1;32min\u001b[0m \u001b[0mpage\u001b[0m\u001b[1;33m:\u001b[0m\u001b[1;33m\u001b[0m\u001b[1;33m\u001b[0m\u001b[0m\n\u001b[0;32m    344\u001b[0m       \u001b[1;32mif\u001b[0m \u001b[0mhasattr\u001b[0m\u001b[1;33m(\u001b[0m\u001b[0mself\u001b[0m\u001b[1;33m,\u001b[0m \u001b[1;34m'title'\u001b[0m\u001b[1;33m)\u001b[0m\u001b[1;33m:\u001b[0m\u001b[1;33m\u001b[0m\u001b[1;33m\u001b[0m\u001b[0m\n\u001b[1;32m--> 345\u001b[1;33m         \u001b[1;32mraise\u001b[0m \u001b[0mPageError\u001b[0m\u001b[1;33m(\u001b[0m\u001b[0mself\u001b[0m\u001b[1;33m.\u001b[0m\u001b[0mtitle\u001b[0m\u001b[1;33m)\u001b[0m\u001b[1;33m\u001b[0m\u001b[1;33m\u001b[0m\u001b[0m\n\u001b[0m\u001b[0;32m    346\u001b[0m       \u001b[1;32melse\u001b[0m\u001b[1;33m:\u001b[0m\u001b[1;33m\u001b[0m\u001b[1;33m\u001b[0m\u001b[0m\n\u001b[0;32m    347\u001b[0m         \u001b[1;32mraise\u001b[0m \u001b[0mPageError\u001b[0m\u001b[1;33m(\u001b[0m\u001b[0mpageid\u001b[0m\u001b[1;33m=\u001b[0m\u001b[0mself\u001b[0m\u001b[1;33m.\u001b[0m\u001b[0mpageid\u001b[0m\u001b[1;33m)\u001b[0m\u001b[1;33m\u001b[0m\u001b[1;33m\u001b[0m\u001b[0m\n",
      "\u001b[1;31mPageError\u001b[0m: Page id \"yazd ahmad\" does not match any pages. Try another id!"
     ]
    }
   ],
   "source": [
    "for i in range(len(df1.loc[0:10])):\n",
    "    try:\n",
    "        print(wiki.summary(df1.Artist[i], sentences = 1))\n",
    "    except wiki.exceptions.DisambiguationError as e:\n",
    "        print(e.options, 10)"
   ]
  },
  {
   "cell_type": "code",
   "execution_count": 31,
   "metadata": {},
   "outputs": [
    {
     "data": {
      "text/html": [
       "<div>\n",
       "<style scoped>\n",
       "    .dataframe tbody tr th:only-of-type {\n",
       "        vertical-align: middle;\n",
       "    }\n",
       "\n",
       "    .dataframe tbody tr th {\n",
       "        vertical-align: top;\n",
       "    }\n",
       "\n",
       "    .dataframe thead th {\n",
       "        text-align: right;\n",
       "    }\n",
       "</style>\n",
       "<table border=\"1\" class=\"dataframe\">\n",
       "  <thead>\n",
       "    <tr style=\"text-align: right;\">\n",
       "      <th></th>\n",
       "      <th>Date</th>\n",
       "      <th>Artist</th>\n",
       "      <th>Album</th>\n",
       "      <th>Rating</th>\n",
       "      <th>Notes</th>\n",
       "    </tr>\n",
       "  </thead>\n",
       "  <tbody>\n",
       "    <tr>\n",
       "      <th>0</th>\n",
       "      <td>12/30/2019</td>\n",
       "      <td>Self Esteem</td>\n",
       "      <td>Compliments Please (DLX)</td>\n",
       "      <td>9-10</td>\n",
       "      <td>repeat!!!</td>\n",
       "    </tr>\n",
       "    <tr>\n",
       "      <th>1</th>\n",
       "      <td>12/30/2019</td>\n",
       "      <td>Self Esteem</td>\n",
       "      <td>Compliments Please (DLX)</td>\n",
       "      <td>9-10</td>\n",
       "      <td>repeat!!!</td>\n",
       "    </tr>\n",
       "    <tr>\n",
       "      <th>2</th>\n",
       "      <td>12/30/2019</td>\n",
       "      <td>Lincoln</td>\n",
       "      <td>A Constant State of Ohio</td>\n",
       "      <td>9</td>\n",
       "      <td>&lt;3 &lt;3 &lt;3 Deepti's reccomendation!!!</td>\n",
       "    </tr>\n",
       "    <tr>\n",
       "      <th>3</th>\n",
       "      <td>12/31/2019</td>\n",
       "      <td>Carole King</td>\n",
       "      <td>Tapestry</td>\n",
       "      <td>7-8</td>\n",
       "      <td>NaN</td>\n",
       "    </tr>\n",
       "    <tr>\n",
       "      <th>4</th>\n",
       "      <td>12/31/2019</td>\n",
       "      <td>Robert Ashley</td>\n",
       "      <td>Improvement (Don Leaves Linda)</td>\n",
       "      <td>7</td>\n",
       "      <td>* * *</td>\n",
       "    </tr>\n",
       "    <tr>\n",
       "      <th>5</th>\n",
       "      <td>12/31/2019</td>\n",
       "      <td>Robert Ashley</td>\n",
       "      <td>Automatic Writing</td>\n",
       "      <td>8-9</td>\n",
       "      <td>get into!!!</td>\n",
       "    </tr>\n",
       "    <tr>\n",
       "      <th>6</th>\n",
       "      <td>1/1/2020</td>\n",
       "      <td>Self Esteem</td>\n",
       "      <td>Compliments Please (DLX)</td>\n",
       "      <td>9-10</td>\n",
       "      <td>repeat!!!</td>\n",
       "    </tr>\n",
       "    <tr>\n",
       "      <th>7</th>\n",
       "      <td>1/1/2020</td>\n",
       "      <td>Robert Ashley</td>\n",
       "      <td>Improvement</td>\n",
       "      <td>8</td>\n",
       "      <td>NaN</td>\n",
       "    </tr>\n",
       "    <tr>\n",
       "      <th>8</th>\n",
       "      <td>1/1/2020</td>\n",
       "      <td>Self Esteem</td>\n",
       "      <td>Compliments Please (DLX)</td>\n",
       "      <td>10</td>\n",
       "      <td>&lt;3 &lt;3 &lt;3 &lt;3 &lt;3</td>\n",
       "    </tr>\n",
       "    <tr>\n",
       "      <th>9</th>\n",
       "      <td>1/1/2020</td>\n",
       "      <td>Yazz Ahmed</td>\n",
       "      <td>Polyhymnia</td>\n",
       "      <td>8</td>\n",
       "      <td>NaN</td>\n",
       "    </tr>\n",
       "    <tr>\n",
       "      <th>10</th>\n",
       "      <td>1/1/2020</td>\n",
       "      <td>TNGHT</td>\n",
       "      <td>II</td>\n",
       "      <td>7</td>\n",
       "      <td>NaN</td>\n",
       "    </tr>\n",
       "  </tbody>\n",
       "</table>\n",
       "</div>"
      ],
      "text/plain": [
       "          Date         Artist                            Album Rating  \\\n",
       "0   12/30/2019    Self Esteem         Compliments Please (DLX)   9-10   \n",
       "1   12/30/2019    Self Esteem         Compliments Please (DLX)   9-10   \n",
       "2   12/30/2019        Lincoln         A Constant State of Ohio      9   \n",
       "3   12/31/2019    Carole King                         Tapestry    7-8   \n",
       "4   12/31/2019  Robert Ashley  Improvement (Don Leaves Linda)       7   \n",
       "5   12/31/2019  Robert Ashley                Automatic Writing    8-9   \n",
       "6     1/1/2020    Self Esteem         Compliments Please (DLX)   9-10   \n",
       "7     1/1/2020  Robert Ashley                      Improvement      8   \n",
       "8     1/1/2020    Self Esteem         Compliments Please (DLX)     10   \n",
       "9     1/1/2020     Yazz Ahmed                       Polyhymnia      8   \n",
       "10    1/1/2020          TNGHT                               II      7   \n",
       "\n",
       "                                  Notes  \n",
       "0                             repeat!!!  \n",
       "1                             repeat!!!  \n",
       "2   <3 <3 <3 Deepti's reccomendation!!!  \n",
       "3                                   NaN  \n",
       "4                                 * * *  \n",
       "5                           get into!!!  \n",
       "6                             repeat!!!  \n",
       "7                                   NaN  \n",
       "8                        <3 <3 <3 <3 <3  \n",
       "9                                   NaN  \n",
       "10                                  NaN  "
      ]
     },
     "execution_count": 31,
     "metadata": {},
     "output_type": "execute_result"
    }
   ],
   "source": [
    "df1.loc[0:10]"
   ]
  },
  {
   "cell_type": "code",
   "execution_count": null,
   "metadata": {},
   "outputs": [],
   "source": [
    "# Quality\n",
    "# - completeness (bring in genre info from wikipedia)\n",
    "# - validity\n",
    "# - accurary\n",
    "# - consistency"
   ]
  },
  {
   "cell_type": "markdown",
   "metadata": {},
   "source": [
    "## Data Cleaning <a class=\"anchor\" id=\"cleaning\"></a>"
   ]
  },
  {
   "cell_type": "code",
   "execution_count": null,
   "metadata": {},
   "outputs": [],
   "source": [
    "# list issues\n",
    "# copy dataframes\n",
    "# address completeness issues\n",
    "# address tidiness issues\n",
    "# address remaining quality issues\n",
    "# store dataframes\n",
    "# finalize dataframes\n"
   ]
  },
  {
   "cell_type": "markdown",
   "metadata": {},
   "source": [
    "## Issues\n",
    "- convert Date to datetime format\n",
    "- convert Rating to int\n",
    "- adjust half numbers\n",
    "- convert repeats in Notes\n",
    "- check out of range numbers and what to do with them\n",
    "- separate repeats from other types of notes and potentially make them into separate columns\n",
    "- make new dataframe that has either the highest score for every album that has repeats and remove the other repeats\n",
    "- make a list of albums with multiple scores, and see what the distribution of them is over time and stuff\n",
    "- remove Kesha 'high road' and Tanya Tucker While I'm Livin\n",
    "- make list of artists that is searchable in wikipedia, then search for them and pull genre information"
   ]
  },
  {
   "cell_type": "raw",
   "metadata": {},
   "source": []
  },
  {
   "cell_type": "markdown",
   "metadata": {},
   "source": [
    "### Issue"
   ]
  },
  {
   "cell_type": "markdown",
   "metadata": {},
   "source": [
    "### Define"
   ]
  },
  {
   "cell_type": "markdown",
   "metadata": {},
   "source": [
    "### Code"
   ]
  },
  {
   "cell_type": "markdown",
   "metadata": {},
   "source": [
    "### Test"
   ]
  },
  {
   "cell_type": "markdown",
   "metadata": {},
   "source": [
    "## Analysis <a class=\"anchor\" id=\"analysis\"></a>"
   ]
  },
  {
   "cell_type": "code",
   "execution_count": null,
   "metadata": {},
   "outputs": [],
   "source": [
    "# initial exploration\n",
    "# univariate analysis and visualizations\n",
    "# bivariate analysis and visualizations\n",
    "# multivariate analysis and visualizations\n",
    "# statistical analysis"
   ]
  },
  {
   "cell_type": "markdown",
   "metadata": {},
   "source": [
    "## Conclusion <a class=\"anchor\" id=\"conclusion\"></a>"
   ]
  },
  {
   "cell_type": "code",
   "execution_count": null,
   "metadata": {},
   "outputs": [],
   "source": [
    "# explanatory visualizations\n",
    "# conclusions\n",
    "# limitations"
   ]
  }
 ],
 "metadata": {
  "kernelspec": {
   "display_name": "Python 3",
   "language": "python",
   "name": "python3"
  },
  "language_info": {
   "codemirror_mode": {
    "name": "ipython",
    "version": 3
   },
   "file_extension": ".py",
   "mimetype": "text/x-python",
   "name": "python",
   "nbconvert_exporter": "python",
   "pygments_lexer": "ipython3",
   "version": "3.7.3"
  }
 },
 "nbformat": 4,
 "nbformat_minor": 2
}
